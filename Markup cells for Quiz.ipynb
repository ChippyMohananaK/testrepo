{
    "cells": [
        {
            "cell_type": "markdown",
            "metadata": {
                "collapsed": true
            },
            "source": "# My Jupyter Notebook on IBM Watson Studio"
        },
        {
            "cell_type": "markdown",
            "metadata": {},
            "source": "**Chippy Mohanan**"
        },
        {
            "cell_type": "markdown",
            "metadata": {},
            "source": "Current occupation: System Analyst"
        },
        {
            "cell_type": "markdown",
            "metadata": {},
            "source": "### The below code will show the execution of Fibonacci sequence, where the user can input how many values in the sequence is needed for display"
        },
        {
            "cell_type": "code",
            "execution_count": 5,
            "metadata": {},
            "outputs": [
                {
                    "name": "stdout",
                    "output_type": "stream",
                    "text": "How many values?5\nFibonacci sequence:\n0\n1\n1\n2\n3\n"
                }
            ],
            "source": "nterms = int(input(\"How many values?\"))\n\nn1, n2 = 0, 1\ncount = 0\n\n\nif nterms <= 0:\n   print(\"Please enter a positive integer\")\nelif nterms == 1:\n   print(\"Fibonacci sequence upto\",nterms,\":\")\n   print(n1)\nelse:\n   print(\"Fibonacci sequence:\")\n   while count < nterms:\n       print(n1)\n       nth = n1 + n2\n       # update values\n       n1 = n2\n       n2 = nth\n       count += 1"
        },
        {
            "cell_type": "markdown",
            "metadata": {},
            "source": "Ordered List\n1. Apple\n2. Banana\n3. Cherry\n4. Dragonfruit\n\nBullet list\n* Amy\n* Bob\n* Cindy\n* Dorothy\n\nLink\n\nTo go to Google, click [here](https://www.google.com/)\n\nTable\n\n| Name | Department | Grade |\n| :----- | :------- | :-----:|\n| Amy | Computer Science | A |\n| Bob | Economics | A |\n| Cindy | Data Science | A |\n| Dorothy | Arts | A |"
        }
    ],
    "metadata": {
        "kernelspec": {
            "display_name": "Python 3.7",
            "language": "python",
            "name": "python3"
        },
        "language_info": {
            "codemirror_mode": {
                "name": "ipython",
                "version": 3
            },
            "file_extension": ".py",
            "mimetype": "text/x-python",
            "name": "python",
            "nbconvert_exporter": "python",
            "pygments_lexer": "ipython3",
            "version": "3.7.9"
        }
    },
    "nbformat": 4,
    "nbformat_minor": 1
}